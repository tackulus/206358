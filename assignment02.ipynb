{
  "nbformat": 4,
  "nbformat_minor": 0,
  "metadata": {
    "colab": {
      "name": "assignment02.ipynb",
      "provenance": [],
      "collapsed_sections": [],
      "authorship_tag": "ABX9TyOYPCF6ATZTgEfUd+lTcn7a",
      "include_colab_link": true
    },
    "kernelspec": {
      "name": "python3",
      "display_name": "Python 3"
    },
    "language_info": {
      "name": "python"
    }
  },
  "cells": [
    {
      "cell_type": "markdown",
      "metadata": {
        "id": "view-in-github",
        "colab_type": "text"
      },
      "source": [
        "<a href=\"https://colab.research.google.com/github/tackulus/206358/blob/main/assignment02.ipynb\" target=\"_parent\"><img src=\"https://colab.research.google.com/assets/colab-badge.svg\" alt=\"Open In Colab\"/></a>"
      ]
    },
    {
      "cell_type": "markdown",
      "metadata": {
        "id": "bUK5Xhf7y1cK"
      },
      "source": [
        "## **Assignment 02**\n",
        "\n",
        "---\n",
        "\n",
        "> **206358 Mathematics for Data Science**\n",
        "\n",
        "> **Kasidis Torcharoen (610510531)**"
      ]
    },
    {
      "cell_type": "markdown",
      "metadata": {
        "id": "48pRNyxfuamq"
      },
      "source": [
        "**1. Identify how MATLAB, C or FORTRAN access matrix; i.e., row-major or column-major or else.**\n",
        "\n",
        "> The column-major order is used in the Fortran language and in Matlab and row-major order is used in C.\n",
        "\n",
        "> The Python NumPy library is very general. It can use either row-major or column-major ordered arrays, but it defaults to row-major ordering.\n",
        "\n",
        "> **Reference :** *Arrays in R and Python* by https://cran.r-project.org, *The N-dimensional array (ndarray)* by https://numpy.org"
      ]
    },
    {
      "cell_type": "markdown",
      "metadata": {
        "id": "MCxBbT5rr8D3"
      },
      "source": [
        "**2. To compute the multiplication between an m × n matrix A and a n × n matrix B.**\n",
        "\n",
        "> **(a) Write a algorithm or flowchart for computing the above problem.**\n",
        "\n",
        "<img src=\"https://raw.githubusercontent.com/tackulus/206358/main/pic/0201_flowchart1.jpg\" width=\"800\">\n"
      ]
    },
    {
      "cell_type": "markdown",
      "metadata": {
        "id": "uV_aPLQfsJU0"
      },
      "source": [
        ">**(b) Write a program using a ”Loop” for computing the above problem and compare your result with built-in function.**"
      ]
    },
    {
      "cell_type": "code",
      "metadata": {
        "id": "wOW0Hu2_nXJd"
      },
      "source": [
        "import numpy as np\n",
        "\n",
        "def mul(A, B):\n",
        "    m, n = A.shape[0], B.shape[1]\n",
        "    sol = np.zeros((m, n))\n",
        "    for i in range(m):\n",
        "        for j in range(n):\n",
        "            sum = 0\n",
        "            for x, y in zip(A[i], B[:,j]): sum += (x * y)\n",
        "            sol[i, j] = sum\n",
        "    return sol"
      ],
      "execution_count": 1,
      "outputs": []
    },
    {
      "cell_type": "code",
      "metadata": {
        "id": "vaQ9Z2u2s3cw"
      },
      "source": [
        "A = np.array([[1, 2],\n",
        "              [1, 3],\n",
        "              [1, 4]])\n",
        "B = np.array([[2, 0],\n",
        "              [1, 1]])"
      ],
      "execution_count": 2,
      "outputs": []
    },
    {
      "cell_type": "code",
      "metadata": {
        "colab": {
          "base_uri": "https://localhost:8080/"
        },
        "id": "NBCEcD_WtSUD",
        "outputId": "be345d72-762d-4a23-c8fb-ca56887a1800"
      },
      "source": [
        "# defined function\n",
        "mul(A, B)"
      ],
      "execution_count": 3,
      "outputs": [
        {
          "output_type": "execute_result",
          "data": {
            "text/plain": [
              "array([[4., 2.],\n",
              "       [5., 3.],\n",
              "       [6., 4.]])"
            ]
          },
          "metadata": {
            "tags": []
          },
          "execution_count": 3
        }
      ]
    },
    {
      "cell_type": "code",
      "metadata": {
        "colab": {
          "base_uri": "https://localhost:8080/"
        },
        "id": "CYdvGuKqtNJW",
        "outputId": "492d7051-130f-45cb-e250-70a2266821f9"
      },
      "source": [
        "# built-in function\n",
        "np.matmul(A, B)"
      ],
      "execution_count": 4,
      "outputs": [
        {
          "output_type": "execute_result",
          "data": {
            "text/plain": [
              "array([[4, 2],\n",
              "       [5, 3],\n",
              "       [6, 4]])"
            ]
          },
          "metadata": {
            "tags": []
          },
          "execution_count": 4
        }
      ]
    },
    {
      "cell_type": "markdown",
      "metadata": {
        "id": "TKdskzAKyAKK"
      },
      "source": [
        "**3. Given**"
      ]
    },
    {
      "cell_type": "code",
      "metadata": {
        "id": "PviiJTiryEBG"
      },
      "source": [
        "A = np.array([[2, 3, 5],\n",
        "              [6, 2, 1]])"
      ],
      "execution_count": 5,
      "outputs": []
    },
    {
      "cell_type": "markdown",
      "metadata": {
        "id": "Bt6lZN6tyMgK"
      },
      "source": [
        "> **(a) Find matrices E and U such that EA = U , where U is an upper triangular matrix obtained by using\n",
        "Gauss Elimination.**"
      ]
    },
    {
      "cell_type": "markdown",
      "metadata": {
        "id": "yVxRBMCuz1L-"
      },
      "source": [
        "> **(b) Determine which pairs of the following vectors in Nullspace, Row space, Left Nullspace or Column space are orthogonal.**\n",
        "\n",
        "> **Hint:** show the dot products of these vectors are zero."
      ]
    },
    {
      "cell_type": "markdown",
      "metadata": {
        "id": "ZVSTpHPy0Q8c"
      },
      "source": [
        "**4. Determine whether the following system of equations has solution, if so find all solutions.**\n",
        "\n",
        "> 2x − y = −4 \n",
        "\n",
        "> 2x + 4y = 6 \n",
        "\n",
        "> 3x − y = −1"
      ]
    }
  ]
}