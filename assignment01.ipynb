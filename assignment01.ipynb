{
  "nbformat": 4,
  "nbformat_minor": 0,
  "metadata": {
    "colab": {
      "name": "assignment01.ipynb",
      "provenance": [],
      "collapsed_sections": [],
      "authorship_tag": "ABX9TyN/TsKrOsa/R5TpNC70kzXU",
      "include_colab_link": true
    },
    "kernelspec": {
      "name": "python3",
      "display_name": "Python 3"
    },
    "language_info": {
      "name": "python"
    }
  },
  "cells": [
    {
      "cell_type": "markdown",
      "metadata": {
        "id": "view-in-github",
        "colab_type": "text"
      },
      "source": [
        "<a href=\"https://colab.research.google.com/github/tackulus/206358/blob/main/assignment01.ipynb\" target=\"_parent\"><img src=\"https://colab.research.google.com/assets/colab-badge.svg\" alt=\"Open In Colab\"/></a>"
      ]
    },
    {
      "cell_type": "markdown",
      "metadata": {
        "id": "bUK5Xhf7y1cK"
      },
      "source": [
        "## **Assignment 01**\n",
        "\n",
        "---\n",
        "\n",
        "> **206358 Mathematics for Data Science**\n",
        "\n",
        "> **Kasidis Torcharoen (610510531)**"
      ]
    },
    {
      "cell_type": "markdown",
      "metadata": {
        "id": "sW1Bv93Sym2Q"
      },
      "source": [
        "**1. To compute the sum of 1 to N, where N is any positive integer, do the following:**\n",
        "\n",
        "> (a) Write a algorithm or flowchart for computing the above problem.\n",
        "\n",
        "<img src=\"https://raw.githubusercontent.com/tackulus/206358/main/pic/0101_flowchart1.jpg\" width=\"1200\">\n"
      ]
    },
    {
      "cell_type": "markdown",
      "metadata": {
        "id": "DdnhnEkj4B1J"
      },
      "source": [
        "> (b) Write a program using the ”For-Loop” for computing the above problem."
      ]
    },
    {
      "cell_type": "code",
      "metadata": {
        "id": "_lHvZxfM4wu7"
      },
      "source": [
        "def sum1toN(N, sol=0):\n",
        "    for i in range(1, N+1): sol += i\n",
        "    return sol "
      ],
      "execution_count": 1,
      "outputs": []
    },
    {
      "cell_type": "markdown",
      "metadata": {
        "id": "06ppAcivCrRH"
      },
      "source": [
        "> c) Write a program using the ”While-Loop” for computing the above problem."
      ]
    },
    {
      "cell_type": "code",
      "metadata": {
        "id": "5JkHsPdv9S7S"
      },
      "source": [
        "def sum1toN(N, sol=0):\n",
        "    while N > 0:\n",
        "        sol += N\n",
        "        N -= 1\n",
        "    return sol "
      ],
      "execution_count": 2,
      "outputs": []
    },
    {
      "cell_type": "markdown",
      "metadata": {
        "id": "vGZ0_cW69mT8"
      },
      "source": [
        "**2. To compute the multiplication between an $m×n$ matrix $A$ and a $n×1$ vector $b$.**\n",
        "\n",
        "> (a) Write a algorithm or flowchart for computing the above problem.\n",
        "\n",
        "<img src=\"https://raw.githubusercontent.com/tackulus/206358/main/pic/0102_flowchart2.jpg\" width=\"750\">"
      ]
    },
    {
      "cell_type": "markdown",
      "metadata": {
        "id": "AaMP-DwcEBRZ"
      },
      "source": [
        "> (b) Write a program using a ”Loop” for computing the above problem and compare your result with built-in function."
      ]
    },
    {
      "cell_type": "code",
      "metadata": {
        "id": "5kzS1KR8EeJg"
      },
      "source": [
        "import numpy as np\n",
        "\n",
        "def mul(A, b):\n",
        "    sol = np.zeros((A.shape[0], 1))\n",
        "    for i in range(A.shape[0]):\n",
        "        sum = 0\n",
        "        for x, y in zip(A[i], b[:,0]): sum += (x * y)\n",
        "        sol[i, 0] = sum\n",
        "    return sol"
      ],
      "execution_count": 3,
      "outputs": []
    },
    {
      "cell_type": "markdown",
      "metadata": {
        "id": "V_974TF69WUh"
      },
      "source": [
        "$A = \n",
        "\\begin{bmatrix}\n",
        "1 & 2 & 3 \\\\\n",
        "4 & 5 & 6\n",
        "\\end{bmatrix}\n",
        "$\n",
        "and\n",
        "$b = \n",
        "\\begin{bmatrix}\n",
        "1 \\\\\n",
        "-1 \\\\\n",
        "2\n",
        "\\end{bmatrix}\n",
        "$"
      ]
    },
    {
      "cell_type": "code",
      "metadata": {
        "id": "AGkVhANJFBK1"
      },
      "source": [
        "A = np.array([[1, 2, 3],\n",
        "              [4, 5, 6]])\n",
        "b = np.array([[1],\n",
        "              [-1],\n",
        "              [2]])"
      ],
      "execution_count": 4,
      "outputs": []
    },
    {
      "cell_type": "code",
      "metadata": {
        "colab": {
          "base_uri": "https://localhost:8080/"
        },
        "id": "aFt6xsbY_C_G",
        "outputId": "8e36c500-5d1a-4bf9-bbf1-9170397fef76"
      },
      "source": [
        "# defined function\n",
        "mul(A, b)"
      ],
      "execution_count": 5,
      "outputs": [
        {
          "output_type": "execute_result",
          "data": {
            "text/plain": [
              "array([[ 5.],\n",
              "       [11.]])"
            ]
          },
          "metadata": {
            "tags": []
          },
          "execution_count": 5
        }
      ]
    },
    {
      "cell_type": "code",
      "metadata": {
        "colab": {
          "base_uri": "https://localhost:8080/"
        },
        "id": "k8kofs76_Eag",
        "outputId": "6929202f-d211-4521-84c3-9de120739422"
      },
      "source": [
        "# built-in function\n",
        "np.matmul(A,b)"
      ],
      "execution_count": 6,
      "outputs": [
        {
          "output_type": "execute_result",
          "data": {
            "text/plain": [
              "array([[ 5],\n",
              "       [11]])"
            ]
          },
          "metadata": {
            "tags": []
          },
          "execution_count": 6
        }
      ]
    }
  ]
}